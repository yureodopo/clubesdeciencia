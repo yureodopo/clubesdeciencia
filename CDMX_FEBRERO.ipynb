{
  "nbformat": 4,
  "nbformat_minor": 0,
  "metadata": {
    "colab": {
      "name": "CDMX FEBRERO",
      "provenance": [],
      "collapsed_sections": [
        "lV_r9C4uZcol"
      ],
      "toc_visible": true,
      "include_colab_link": true
    },
    "kernelspec": {
      "name": "python3",
      "display_name": "Python 3"
    }
  },
  "cells": [
    {
      "cell_type": "markdown",
      "metadata": {
        "id": "view-in-github",
        "colab_type": "text"
      },
      "source": [
        "<a href=\"https://colab.research.google.com/github/yureodopo/clubesdeciencia/blob/master/CDMX_FEBRERO.ipynb\" target=\"_parent\"><img src=\"https://colab.research.google.com/assets/colab-badge.svg\" alt=\"Open In Colab\"/></a>"
      ]
    },
    {
      "cell_type": "markdown",
      "metadata": {
        "id": "WQPgTTtgatFr",
        "colab_type": "text"
      },
      "source": [
        "#**Modeling through Markov Chains: a practical example.**"
      ]
    },
    {
      "cell_type": "markdown",
      "metadata": {
        "id": "y_TIjzT6a-lQ",
        "colab_type": "text"
      },
      "source": [
        "In this Google Colab Notebook, you will find a \n",
        "\n",
        "---\n",
        "\n",
        "practical example of how to implement a Discrete-Time Markov Chain Model to predict an outcome of a common problem. For this purpose, you will only need to make a copy of this file, Python, and a few libraries. "
      ]
    },
    {
      "cell_type": "markdown",
      "metadata": {
        "id": "YFxaMwaGhro4",
        "colab_type": "text"
      },
      "source": [
        "##**Problem description** "
      ]
    },
    {
      "cell_type": "markdown",
      "metadata": {
        "id": "QPgApIyQhx4q",
        "colab_type": "text"
      },
      "source": [
        "Suppose you are working on a company that wants to evaluate how often consumers select one product over another. For example, an individual may buy a Razor notebook, and the next time changes their choice to a more expensive Dron notebook, or a cheaper Soul Notebook. For obvious reasons, the company wants to know the behavior of buyers through time to guarantee that more clients choose the most expensive item."
      ]
    },
    {
      "cell_type": "markdown",
      "metadata": {
        "id": "Vn-0mg0kmyl9",
        "colab_type": "text"
      },
      "source": [
        "Your first way to solve this problem was to evaluate the buyers' behavior using Discrete-Time Markov Chains (DTMC) implemented in Python, as described below. "
      ]
    },
    {
      "cell_type": "markdown",
      "metadata": {
        "id": "3SG99VQQas9m",
        "colab_type": "text"
      },
      "source": [
        "In order to implement DTMC you will need to import some Modules "
      ]
    },
    {
      "cell_type": "code",
      "metadata": {
        "id": "waaR76nV5WVu",
        "colab_type": "code",
        "colab": {}
      },
      "source": [
        "\n",
        "#Importing needed libraries\n",
        "import numpy as np\n",
        "import pandas as pd\n",
        "import matplotlib.pyplot as plt\n",
        "import matplotlib.patches as mpatches \n",
        "from matplotlib.collections import PatchCollection\n",
        "from random import seed\n",
        "from random import random"
      ],
      "execution_count": 2,
      "outputs": []
    },
    {
      "cell_type": "markdown",
      "metadata": {
        "id": "zXLe80ABoGzJ",
        "colab_type": "text"
      },
      "source": [
        "#**Defining state space** "
      ]
    },
    {
      "cell_type": "markdown",
      "metadata": {
        "id": "1Ikex7bxoWAO",
        "colab_type": "text"
      },
      "source": [
        "At this point, you have a random variable named bought notebook. This variable has three possible states which represent the buyable items: Razor, Dron, and Soul Notebooks. Hence,  S = {Razor, Dron, Soul}."
      ]
    },
    {
      "cell_type": "code",
      "metadata": {
        "id": "oPkK3Z9Epi4m",
        "colab_type": "code",
        "colab": {}
      },
      "source": [
        "  states = [\"Susceptible\", \"Infectado\", \"Recuperado\"]"
      ],
      "execution_count": 3,
      "outputs": []
    },
    {
      "cell_type": "markdown",
      "metadata": {
        "id": "eyz5AIdNp3ZR",
        "colab_type": "text"
      },
      "source": [
        "#**Determining states association and transition probabilities**"
      ]
    },
    {
      "cell_type": "markdown",
      "metadata": {
        "id": "99J1SGv7qtw_",
        "colab_type": "text"
      },
      "source": [
        "In this section, you decided to code a directed graph to evaluate how states are connected and what are the probabilities of going from state 1 to state 2 or state 3."
      ]
    },
    {
      "cell_type": "code",
      "metadata": {
        "id": "KwGXpegmsZE_",
        "colab_type": "code",
        "colab": {}
      },
      "source": [
        "#Defining possible transitions between states\n",
        "transitionStates = [[\"SS\", \"SI\", \"SR\"], \n",
        "                    [\"IS\", \"II\", \"IR\"], \n",
        "                    [\"RS\", \"RI\", \"RR\"]]"
      ],
      "execution_count": 4,
      "outputs": []
    },
    {
      "cell_type": "markdown",
      "metadata": {
        "id": "d2fRQQk5uNxk",
        "colab_type": "text"
      },
      "source": [
        "#**Clients' choices between Notebooks** "
      ]
    },
    {
      "cell_type": "markdown",
      "metadata": {
        "id": "rKx5nbZeqtcc",
        "colab_type": "text"
      },
      "source": [
        "**First buy**: Razor <br>\n",
        "Total amount of people analyzed: 1000 <br>\n",
        "-Second buy: Razor <br>\n",
        "Amount of people who bought it: 200 <br>\n",
        "-Second buy: Dron <br>\n",
        "Amount of people who bought it: 600 <br>\n",
        "-Second buy: Soul <br>\n",
        "Amount of people who bought it: 200 <br>\n",
        "**First buy**: Dron <br>\n",
        "Total amount of people analyzed: 1000 <br>\n",
        "-Second buy: Razor <br>\n",
        "Amount of people who bought it: 100 <br>\n",
        "-Second buy: Dron <br>\n",
        "Amount of people who bought it: 600 <br>\n",
        "-Second buy: Soul <br>\n",
        "Amount of people who bought it: 300 <br>\n",
        "**First buy**: Soul <br>\n",
        "Total amount of people analyzed: 1000 <br>\n",
        "-Second buy: Razor <br>\n",
        "Amount of people who bought it: 200 <br>\n",
        "-Second buy: Dron <br>\n",
        "Amount of people who bought it: 700 <br>\n",
        "-Second buy: Soul <br>\n",
        "Amount of people who bought it: 100 <br>"
      ]
    },
    {
      "cell_type": "markdown",
      "metadata": {
        "id": "bynkQFVFuZFq",
        "colab_type": "text"
      },
      "source": [
        "An analysis of clients' choice found that there is a different proportion of selection between notebooks. For example in the object `transitionMatrix`, the first 0.2 means that a client who bought a Razor notebook in the past will repeat his choice. On the other hand, 0.6 means that a buyer who bought a razor notebook is going to buy a Dron notebook instead."
      ]
    },
    {
      "cell_type": "code",
      "metadata": {
        "id": "DR-20CtEuZpC",
        "colab_type": "code",
        "colab": {}
      },
      "source": [
        "#Establishing transition probabilities between states.    #CDMX\n",
        "\n",
        "transitionMatrix = [[0.9999,0.0001 , 0], \n",
        "                    [0,0.0029 ,0.9971 ], \n",
        "                    [0, 0, 1]]\n",
        "\n",
        "#IMPORTANT NOTE: the sum of probabilities within square brackets must be equal to one"
      ],
      "execution_count": 5,
      "outputs": []
    },
    {
      "cell_type": "markdown",
      "metadata": {
        "id": "lV_r9C4uZcol",
        "colab_type": "text"
      },
      "source": [
        "#**Code to generate a simple directed graph** (Thanks to Naysan Saran)\n",
        "https://naysan.ca/2020/07/08/drawing-state-transition-diagrams-in-python/"
      ]
    },
    {
      "cell_type": "code",
      "metadata": {
        "id": "Xv80TNHRYH_4",
        "colab_type": "code",
        "colab": {}
      },
      "source": [
        "class Node:\n",
        "    \n",
        "    def __init__(\n",
        "        self, center, radius, label, \n",
        "        facecolor='#2693de', edgecolor='#e6e6e6',\n",
        "        ring_facecolor='#a3a3a3', ring_edgecolor='#a3a3a3'\n",
        "        ):\n",
        "        \"\"\"\n",
        "        Initializes a Markov Chain Node(for drawing purposes)\n",
        "        Inputs:\n",
        "            - center : Node (x,y) center\n",
        "            - radius : Node radius\n",
        "            - label  : Node label\n",
        "        \"\"\"\n",
        "        self.center = center\n",
        "        self.radius = radius\n",
        "        self.label  = label\n",
        "\n",
        "        # For convinience: x, y coordinates of the center\n",
        "        self.x = center[0]\n",
        "        self.y = center[1]\n",
        "        \n",
        "        # Drawing config\n",
        "        self.node_facecolor = facecolor\n",
        "        self.node_edgecolor = edgecolor\n",
        "        \n",
        "        self.ring_facecolor = ring_facecolor\n",
        "        self.ring_edgecolor = ring_edgecolor\n",
        "        self.ring_width = 0.03  \n",
        "        \n",
        "        self.text_args = {\n",
        "            'ha': 'center', \n",
        "            'va': 'center', \n",
        "            'fontsize': 16\n",
        "        }\n",
        "    \n",
        "    \n",
        "    def add_circle(self, ax):\n",
        "        \"\"\"\n",
        "        Add the annotated circle for the node\n",
        "        \"\"\"\n",
        "        circle = mpatches.Circle(self.center, self.radius)\n",
        "        p = PatchCollection(\n",
        "            [circle], \n",
        "            edgecolor = self.node_edgecolor, \n",
        "            facecolor = self.node_facecolor\n",
        "        )\n",
        "        ax.add_collection(p)\n",
        "        ax.annotate(\n",
        "            self.label, \n",
        "            xy = self.center, \n",
        "            color = '#ffffff', \n",
        "            **self.text_args\n",
        "        )\n",
        "        \n",
        "        \n",
        "    def add_self_loop(self, ax, prob=None, direction='up'):\n",
        "        \"\"\"\n",
        "        Draws a self loop\n",
        "        \"\"\"\n",
        "        if direction == 'up':\n",
        "            start = -30\n",
        "            angle = 180\n",
        "            ring_x = self.x\n",
        "            ring_y = self.y + self.radius\n",
        "            prob_y = self.y + 1.3*self.radius\n",
        "            x_cent = ring_x - self.radius + (self.ring_width/2)\n",
        "            y_cent = ring_y - 0.15\n",
        "        else:\n",
        "            start = -210\n",
        "            angle = 0\n",
        "            ring_x = self.x\n",
        "            ring_y = self.y - self.radius\n",
        "            prob_y = self.y - 1.4*self.radius\n",
        "            x_cent = ring_x + self.radius - (self.ring_width/2)\n",
        "            y_cent = ring_y + 0.15\n",
        "            \n",
        "        # Add the ring\n",
        "        ring = mpatches.Wedge(\n",
        "            (ring_x, ring_y), \n",
        "            self.radius, \n",
        "            start, \n",
        "            angle, \n",
        "            width = self.ring_width\n",
        "        )\n",
        "        # Add the triangle (arrow)\n",
        "        offset = 0.2\n",
        "        left   = [x_cent - offset, ring_y]\n",
        "        right  = [x_cent + offset, ring_y]\n",
        "        bottom = [(left[0]+right[0])/2., y_cent]\n",
        "        arrow  = plt.Polygon([left, right, bottom, left])\n",
        "\n",
        "        p = PatchCollection(\n",
        "            [ring, arrow], \n",
        "            edgecolor = self.ring_edgecolor, \n",
        "            facecolor = self.ring_facecolor\n",
        "        )\n",
        "        ax.add_collection(p)\n",
        "        \n",
        "        # Probability to add?\n",
        "        if prob:\n",
        "            ax.annotate(str(prob), xy=(self.x, prob_y), color='#000000', **self.text_args)\n",
        "\n",
        "class MarkovChain:\n",
        "\n",
        "    def __init__(self, M, labels):\n",
        "        \"\"\"\n",
        "        Initializes a Markov Chain (for drawing purposes)\n",
        "        Inputs:\n",
        "            - M         Transition Matrix\n",
        "            - labels    State Labels\n",
        "        \"\"\"\n",
        "\n",
        "        if M.shape[0] < 2:\n",
        "            raise Exception(\"There should be at least 2 states\")\n",
        "        if M.shape[0] > 4:\n",
        "            raise Exception(\"Only works with 4 states max for now\")\n",
        "        if M.shape[0] != M.shape[1]:\n",
        "            raise Exception(\"Transition matrix should be square\")\n",
        "        if M.shape[0] != len(labels):\n",
        "            raise Exception(\"There should be as many labels as states\")\n",
        "\n",
        "        self.M = M\n",
        "        self.n_states = M.shape[0]\n",
        "        self.labels = labels\n",
        "\n",
        "        # Colors\n",
        "        self.arrow_facecolor = '#a3a3a3'\n",
        "        self.arrow_edgecolor = '#a3a3a3'\n",
        "\n",
        "        self.node_facecolor = '#2693de'\n",
        "        self.node_edgecolor = '#e6e6e6'\n",
        "\n",
        "        # Drawing config\n",
        "        self.node_radius = 0.5\n",
        "        self.arrow_width = 0.03\n",
        "        self.arrow_head_width = 0.20\n",
        "        self.text_args = {\n",
        "            'ha': 'center',\n",
        "            'va': 'center',\n",
        "            'fontsize': 16\n",
        "        }\n",
        "\n",
        "        # Build the network\n",
        "        self.build_network()\n",
        "\n",
        "\n",
        "    def set_node_centers(self):\n",
        "        \"\"\"\n",
        "        Positions the node centers given the number of states\n",
        "        \"\"\"\n",
        "        # Node positions\n",
        "        self.node_centers = []\n",
        "\n",
        "        if self.n_states == 2:\n",
        "            self.figsize = (10, 4)\n",
        "            self.xlim = (-5, 5)\n",
        "            self.ylim = (-2, 2)\n",
        "            self.node_centers = [[-4,0], [4,0]]\n",
        "        elif self.n_states == 3:\n",
        "            self.figsize = (10, 6)\n",
        "            self.xlim = (-5, 5)\n",
        "            self.ylim = (-3, 3)\n",
        "            self.node_centers = [[-3,-2], [3,-2], [-3,2]]\n",
        "        elif self.n_states == 4:\n",
        "            self.figsize = (8, 8)\n",
        "            self.xlim = (-5, 5)\n",
        "            self.ylim = (-5, 5)\n",
        "            self.node_centers = [[-4,4], [4,4], [4,-4], [-4,-4]]\n",
        "\n",
        "\n",
        "    def build_network(self):\n",
        "        \"\"\"\n",
        "        Loops through the matrix, add the nodes\n",
        "        \"\"\"\n",
        "        # Position the node centers\n",
        "        self.set_node_centers()\n",
        "\n",
        "        # Set the nodes\n",
        "        self.nodes = []\n",
        "        for i in range(self.n_states):\n",
        "            node = Node(\n",
        "                self.node_centers[i],\n",
        "                self.node_radius,\n",
        "                self.labels[i]\n",
        "            )\n",
        "            self.nodes.append(node)\n",
        "\n",
        "\n",
        "    def add_arrow(self, ax, node1, node2, prob=None):\n",
        "        \"\"\"\n",
        "        Add a directed arrow between two nodes\n",
        "        \"\"\"\n",
        "        # x,y start of the arrow\n",
        "        x_start = node1.x + np.sign(node2.x-node1.x) * node1.radius\n",
        "        y_start = node1.y + np.sign(node2.y-node1.y) * node1.radius\n",
        "\n",
        "        # arrow length\n",
        "        dx = abs(node1.x - node2.x) - 2.5* node1.radius\n",
        "        dy = abs(node1.y - node2.y) - 2.5* node1.radius\n",
        "\n",
        "        # we don't want xoffset and yoffset to both be non-nul\n",
        "        yoffset = 0.4 * self.node_radius * np.sign(node2.x-node1.x)\n",
        "        if yoffset == 0:\n",
        "            xoffset = 0.4 * self.node_radius * np.sign(node2.y-node1.y)\n",
        "        else:\n",
        "            xoffset = 0\n",
        "\n",
        "        arrow = mpatches.FancyArrow(\n",
        "            x_start + xoffset,\n",
        "            y_start + yoffset,\n",
        "            dx * np.sign(node2.x-node1.x),\n",
        "            dy * np.sign(node2.y-node1.y),\n",
        "            width = self.arrow_width,\n",
        "            head_width = self.arrow_head_width\n",
        "        )\n",
        "        p = PatchCollection(\n",
        "            [arrow],\n",
        "            edgecolor = self.arrow_edgecolor,\n",
        "            facecolor = self.arrow_facecolor\n",
        "        )\n",
        "        ax.add_collection(p)\n",
        "\n",
        "        # Probability to add?\n",
        "        x_prob = x_start + xoffset + 0.2*dx*np.sign(node2.x-node1.x)\n",
        "        y_prob = y_start + yoffset + 0.2*dy*np.sign(node2.y-node1.y)\n",
        "        if prob:\n",
        "            ax.annotate(str(prob), xy=(x_prob, y_prob), color='#000000', **self.text_args)\n",
        "\n",
        "\n",
        "    def draw(self, img_path=None):\n",
        "        \"\"\"\n",
        "        Draw the Markov Chain\n",
        "        \"\"\"\n",
        "        fig, ax = plt.subplots(figsize=self.figsize)\n",
        "\n",
        "        # Set the axis limits\n",
        "        plt.xlim(self.xlim)\n",
        "        plt.ylim(self.ylim)\n",
        "\n",
        "        # Draw the nodes\n",
        "        for node in self.nodes:\n",
        "            node.add_circle(ax)\n",
        "\n",
        "        # Add the transitions\n",
        "        for i in range(self.M.shape[0]):\n",
        "            for j in range(self.M.shape[1]):\n",
        "                # self loops\n",
        "                if i == j:\n",
        "                    # Loop direction\n",
        "                    if self.nodes[i].y >= 0:\n",
        "                        self.nodes[i].add_self_loop(ax, prob = self.M[i,j], direction='up')\n",
        "                    else:\n",
        "                        self.nodes[i].add_self_loop(ax, prob = self.M[i,j], direction='down')\n",
        "                # directed arrows\n",
        "                elif self.M[i,j] > 0:\n",
        "                    self.add_arrow(ax, self.nodes[i], self.nodes[j], prob = self.M[i,j])\n",
        "\n",
        "        plt.axis('off')\n",
        "        # Save the image to disk?\n",
        "        if img_path:\n",
        "            plt.savefig(img_path)\n",
        "        plt.show()"
      ],
      "execution_count": 6,
      "outputs": []
    },
    {
      "cell_type": "markdown",
      "metadata": {
        "id": "7-4_Zz3BZmoL",
        "colab_type": "text"
      },
      "source": [
        "#**Directed graph**"
      ]
    },
    {
      "cell_type": "code",
      "metadata": {
        "id": "omXgxWNQUtai",
        "colab_type": "code",
        "colab": {
          "base_uri": "https://localhost:8080/",
          "height": 543
        },
        "outputId": "373de155-00b2-4a20-b92a-e08f055db6a9"
      },
      "source": [
        "#Formatting the transition matrix as a numpy array\n",
        "P = np.array(transitionMatrix)\n",
        "#Using Class MarkovChain (array, labels)\n",
        "DG = MarkovChain(P, ['S', 'I', 'R'])\n",
        "#Drawaing the Directed Graph\n",
        "DG.draw()\n",
        "\n",
        "DG.savefig('esquema.png')"
      ],
      "execution_count": 11,
      "outputs": [
        {
          "output_type": "display_data",
          "data": {
            "image/png": "[encoded data removed]",
            "text/plain": [
              "<Figure size 720x432 with 1 Axes>"
            ]
          },
          "metadata": {
            "tags": [],
            "needs_background": "light"
          }
        },
        {
          "output_type": "error",
          "ename": "AttributeError",
          "evalue": "ignored",
          "traceback": [
            "\u001b[0;31m---------------------------------------------------------------------------\u001b[0m",
            "\u001b[0;31mAttributeError\u001b[0m                            Traceback (most recent call last)",
            "\u001b[0;32m<ipython-input-11-ed6a60c73b68>\u001b[0m in \u001b[0;36m<module>\u001b[0;34m()\u001b[0m\n\u001b[1;32m      6\u001b[0m \u001b[0mDG\u001b[0m\u001b[0;34m.\u001b[0m\u001b[0mdraw\u001b[0m\u001b[0;34m(\u001b[0m\u001b[0;34m)\u001b[0m\u001b[0;34m\u001b[0m\u001b[0;34m\u001b[0m\u001b[0m\n\u001b[1;32m      7\u001b[0m \u001b[0;34m\u001b[0m\u001b[0m\n\u001b[0;32m----> 8\u001b[0;31m \u001b[0mDG\u001b[0m\u001b[0;34m.\u001b[0m\u001b[0msavefig\u001b[0m\u001b[0;34m(\u001b[0m\u001b[0;34m'esquema.png'\u001b[0m\u001b[0;34m)\u001b[0m\u001b[0;34m\u001b[0m\u001b[0;34m\u001b[0m\u001b[0m\n\u001b[0m",
            "\u001b[0;31mAttributeError\u001b[0m: 'MarkovChain' object has no attribute 'savefig'"
          ]
        }
      ]
    },
    {
      "cell_type": "markdown",
      "metadata": {
        "id": "hsh-xvnsc9yx",
        "colab_type": "text"
      },
      "source": [
        "#**Modeling Clients' behavior**"
      ]
    },
    {
      "cell_type": "markdown",
      "metadata": {
        "id": "vuAmiXQ2UmXG",
        "colab_type": "text"
      },
      "source": [
        "Below you can predict the probability of a series of events to happen. For example, one client buys a Razor notebook at first. What is the chance that this person buys a Dron or Soul Notebook the next time? and the next one?  "
      ]
    },
    {
      "cell_type": "code",
      "metadata": {
        "id": "7E7DAfgidoZn",
        "colab_type": "code",
        "colab": {
          "base_uri": "https://localhost:8080/"
        },
        "outputId": "f381da10-296a-4574-d759-d6bddb8f48d5"
      },
      "source": [
        "#Coding a function to model through several sales\n",
        "def prediction(sales):\n",
        "    #Initial State\n",
        "\n",
        "    initialbuy = \"Susceptible\"\n",
        "    print(\"Start State: \" + initialbuy)\n",
        "\n",
        "    #At the begining, we store our activities within a list, and we only have the initial activity\n",
        "    buyList = [initialbuy]\n",
        "    #we specify an index (i=0), and we know that its propability is equal to 1. In other words, this is happening for sure.\n",
        "    i = 0\n",
        "    prob = 1\n",
        "\n",
        "#Initiate a while loop that continues only if i is not equal to sales  \n",
        "    while i != sales:\n",
        "        if initialbuy == \"Susceptible\":\n",
        "            #Select a random sample from all possible transitions between established states.\n",
        "            #np.random.choice(a, replace=?, p=?)\n",
        "            #a = an array from where we are going to generate a random samples using its elements\n",
        "            #replace = samples can be taken with or without replacement\n",
        "            #p = probabilities associated with elements in a\n",
        "            change = np.random.choice(transitionStates[0], replace=True, p = transitionMatrix[0])\n",
        "\n",
        "            #Here, the if statement shows that random sample generated and stored in object \"change\" is RR.\n",
        "            #When this happen we modify the prob object by multlipying it by this probability.\n",
        "            #Then we append the result of random sample in activityList.\n",
        "            if change == \"SS\":\n",
        "                prob = prob * 0.2\n",
        "                buyList.append(\"Susceptible\")\n",
        "                #pass statement is used for not getting an error \n",
        "                pass\n",
        "            #Here, the elif statement shows that random sample generated and stored in object \"change\" is RD.    \n",
        "            elif change == \"SI\":\n",
        "                prob = prob * 0.6\n",
        "                initialbuy = \"Infectado\"\n",
        "                buyList.append(\"Infectado\")\n",
        "            else: \n",
        "                prob = prob * 0.2\n",
        "                initialbuy = \"Recuperado\"\n",
        "                buyList.append(\"Recuperado\")\n",
        "        elif initialbuy == \"Infectado\":\n",
        "            change = np.random.choice(transitionStates[1], replace=True, p = transitionMatrix[1])\n",
        "            if change == \"II\":\n",
        "                prob = prob * 0.6\n",
        "                buyList.append(\"Infectado\")\n",
        "                pass\n",
        "            elif change == \"IS\":\n",
        "                prob = prob * 0.1\n",
        "                initialbuy = \"Susceptible\"\n",
        "                buyList.append(\"Susceptible\")\n",
        "            else:\n",
        "                prob = prob * 0.3\n",
        "                initialbuy = \"Recuperado\"\n",
        "                buyList.append(\"Recuperado\")\n",
        "        elif initialbuy == \"Recuperado\":\n",
        "            change = np.random.choice(transitionStates[2], replace = True, p = transitionMatrix[2])\n",
        "            if change == \"RR\":\n",
        "                prob = prob * 0.1\n",
        "                buyList.append(\"Recuperado\")\n",
        "                pass\n",
        "            elif change == \"RS\":\n",
        "                prob = prob * 0.2\n",
        "                initialbuy = \"Susceptible\"\n",
        "                buyList.append(\"Susceptible\")\n",
        "            else:\n",
        "                prob = prob * 0.7\n",
        "                initialbuy = \"Infectado\"\n",
        "                buyList.append(\"Infectado\")\n",
        "        i += 1\n",
        "    print (\"Possible states: \" + str(buyList))\n",
        "    print (\"End state after \"+ str(sales) + \" sales: \" + initialbuy)\n",
        "    print (\"Probability of the possible sequence of states: \" + str(prob) + \"\\n\")\n",
        "\n",
        "prediction(1)\n",
        "prediction(2)\n",
        "prediction(2)\n",
        "prediction(3)\n",
        "prediction(4)"
      ],
      "execution_count": null,
      "outputs": [
        {
          "output_type": "stream",
          "text": [
            "Start State: Susceptible\n",
            "Possible states: ['Susceptible', 'Susceptible']\n",
            "End state after 1 sales: Susceptible\n",
            "Probability of the possible sequence of states: 0.2\n",
            "\n",
            "Start State: Susceptible\n",
            "Possible states: ['Susceptible', 'Susceptible', 'Susceptible']\n",
            "End state after 2 sales: Susceptible\n",
            "Probability of the possible sequence of states: 0.04000000000000001\n",
            "\n",
            "Start State: Susceptible\n",
            "Possible states: ['Susceptible', 'Susceptible', 'Susceptible']\n",
            "End state after 2 sales: Susceptible\n",
            "Probability of the possible sequence of states: 0.04000000000000001\n",
            "\n",
            "Start State: Susceptible\n",
            "Possible states: ['Susceptible', 'Susceptible', 'Susceptible', 'Susceptible']\n",
            "End state after 3 sales: Susceptible\n",
            "Probability of the possible sequence of states: 0.008000000000000002\n",
            "\n",
            "Start State: Susceptible\n",
            "Possible states: ['Susceptible', 'Susceptible', 'Susceptible', 'Susceptible', 'Susceptible']\n",
            "End state after 4 sales: Susceptible\n",
            "Probability of the possible sequence of states: 0.0016000000000000005\n",
            "\n"
          ],
          "name": "stdout"
        }
      ]
    },
    {
      "cell_type": "markdown",
      "metadata": {
        "id": "bgzDlII4VQv6",
        "colab_type": "text"
      },
      "source": [
        "#**Finding stationary distribution (of probabilities)**"
      ]
    },
    {
      "cell_type": "markdown",
      "metadata": {
        "id": "hDDJCPIrVfPa",
        "colab_type": "text"
      },
      "source": [
        "Above is an example of how we determine the probability of expecting some results. In our case, we evaluate how probable is that after buying a Razor notebook, then we repeat the purchase or change it to another item."
      ]
    },
    {
      "cell_type": "markdown",
      "metadata": {
        "id": "o6MfnXlzWckx",
        "colab_type": "text"
      },
      "source": [
        "Now let us focus on modeling the behavior of buyers through time. We will try to find the **stationary distribution** of probabilities. It is just as the example of flipping a coin. Once we make a coin toss so many times that it tends to infinite, we get a mean chance of getting heads near 0.5 (50 %) and vice versa. What is our stationary distribution?\n",
        "To calculate stationary distributions, we need to use Chapman-Kolmogorov equations. These equations lets us find future probabilities by multiplying a transition matrix by itself as many times as we want. In other words, we raise the transition matrix to the power identified by the number of desired iterations. "
      ]
    },
    {
      "cell_type": "code",
      "metadata": {
        "id": "JGWs-VzcVP62",
        "colab_type": "code",
        "colab": {
          "base_uri": "https://localhost:8080/",
          "height": 1000
        },
        "outputId": "c29a25b5-a4bc-4f75-e0b6-401f35adac19"
      },
      "source": [
        "#We already imported needed libraries\n",
        "#To visualize relationship between states see below \n",
        "transitionStates = [[\"SS\", \"SI\", \"SR\"], \n",
        "                    [\"IS\", \"II\", \"IR\"], \n",
        "                    [\"RS\", \"RI\", \"RR\"]]\n",
        "#Just for explanation purposes, we declare our transition matrix and make it a NumPy array again...  \n",
        "\n",
        "P =np.array([[0.9999,0.0001 , 0], \n",
        "                    [0,0.0029 ,0.9971 ], \n",
        "                    [0, 0, 1]])\n",
        "#Initial state. Where do we begin? Buying a razor notebook\n",
        "state=np.array([[1.0, 0.0, 0.0]])\n",
        "stateHist=state\n",
        "#Generate a dataframe\n",
        "dfStateHist=pd.DataFrame(state)\n",
        "distr_hist = [[0,0,0]]\n",
        "#Produce a for loop to multiply the matrix 20 times \n",
        "for x in range(15):\n",
        "  state=np.dot(state,P)\n",
        "  print(state)\n",
        "  stateHist=np.append(stateHist,state,axis=0)\n",
        "  dfDistrHist = pd.DataFrame(stateHist)\n",
        "  dfDistrHist.plot()\n",
        "plt.show()"
      ],
      "execution_count": null,
      "outputs": [
        {
          "output_type": "stream",
          "text": [
            "[[9.999e-01 1.000e-04 0.000e+00]]\n",
            "[[9.9980001e-01 1.0028000e-04 9.9710000e-05]]\n",
            "[[9.99700030e-01 1.00270813e-04 1.99699188e-04]]\n",
            "[[9.99600060e-01 1.00260788e-04 2.99679216e-04]]\n",
            "[[9.99500100e-01 1.00250762e-04 3.99649248e-04]]\n",
            "[[9.99400150e-01 1.00240737e-04 4.99609283e-04]]\n",
            "[[9.99300210e-01 1.00230713e-04 5.99559322e-04]]\n",
            "[[9.99200280e-01 1.00220690e-04 6.99499366e-04]]\n",
            "[[9.99100360e-01 1.00210668e-04 7.99429416e-04]]\n",
            "[[9.99000450e-01 1.00200647e-04 8.99349473e-04]]\n",
            "[[9.98900550e-01 1.00190627e-04 9.99259538e-04]]\n",
            "[[9.98800660e-01 1.00180608e-04 1.09915961e-03]]\n",
            "[[9.9870078e-01 1.0017059e-04 1.1990497e-03]]\n",
            "[[9.98600910e-01 1.00160573e-04 1.29892979e-03]]\n",
            "[[9.98501050e-01 1.00150557e-04 1.39879990e-03]]\n"
          ],
          "name": "stdout"
        },
        {
          "output_type": "display_data",
          "data": {
            "image/png": "[encoded data removed]",
            "text/plain": [
              "<Figure size 432x288 with 1 Axes>"
            ]
          },
          "metadata": {
            "tags": [],
            "needs_background": "light"
          }
        },
        {
          "output_type": "display_data",
          "data": {
            "image/png": "[encoded data removed]",
            "text/plain": [
              "<Figure size 432x288 with 1 Axes>"
            ]
          },
          "metadata": {
            "tags": [],
            "needs_background": "light"
          }
        },
        {
          "output_type": "display_data",
          "data": {
            "image/png": "[encoded data removed]",
            "text/plain": [
              "<Figure size 432x288 with 1 Axes>"
            ]
          },
          "metadata": {
            "tags": [],
            "needs_background": "light"
          }
        },
        {
          "output_type": "display_data",
          "data": {
            "image/png": "[encoded data removed]",
            "text/plain": [
              "<Figure size 432x288 with 1 Axes>"
            ]
          },
          "metadata": {
            "tags": [],
            "needs_background": "light"
          }
        },
        {
          "output_type": "display_data",
          "data": {
            "image/png": "[encoded data removed]",
            "text/plain": [
              "<Figure size 432x288 with 1 Axes>"
            ]
          },
          "metadata": {
            "tags": [],
            "needs_background": "light"
          }
        },
        {
          "output_type": "display_data",
          "data": {
            "image/png": "[encoded data removed]",
            "text/plain": [
              "<Figure size 432x288 with 1 Axes>"
            ]
          },
          "metadata": {
            "tags": [],
            "needs_background": "light"
          }
        },
        {
          "output_type": "display_data",
          "data": {
            "image/png": "[encoded data removed]",
            "text/plain": [
              "<Figure size 432x288 with 1 Axes>"
            ]
          },
          "metadata": {
            "tags": [],
            "needs_background": "light"
          }
        },
        {
          "output_type": "display_data",
          "data": {
            "image/png": "[encoded data removed]",
            "text/plain": [
              "<Figure size 432x288 with 1 Axes>"
            ]
          },
          "metadata": {
            "tags": [],
            "needs_background": "light"
          }
        },
        {
          "output_type": "display_data",
          "data": {
            "image/png": "[encoded data removed]",
            "text/plain": [
              "<Figure size 432x288 with 1 Axes>"
            ]
          },
          "metadata": {
            "tags": [],
            "needs_background": "light"
          }
        },
        {
          "output_type": "display_data",
          "data": {
            "image/png": "[encoded data removed]",
            "text/plain": [
              "<Figure size 432x288 with 1 Axes>"
            ]
          },
          "metadata": {
            "tags": [],
            "needs_background": "light"
          }
        },
        {
          "output_type": "display_data",
          "data": {
            "image/png": "[encoded data removed]",
            "text/plain": [
              "<Figure size 432x288 with 1 Axes>"
            ]
          },
          "metadata": {
            "tags": [],
            "needs_background": "light"
          }
        },
        {
          "output_type": "display_data",
          "data": {
            "image/png": "[encoded data removed]",
            "text/plain": [
              "<Figure size 432x288 with 1 Axes>"
            ]
          },
          "metadata": {
            "tags": [],
            "needs_background": "light"
          }
        },
        {
          "output_type": "display_data",
          "data": {
            "image/png": "[encoded data removed]",
            "text/plain": [
              "<Figure size 432x288 with 1 Axes>"
            ]
          },
          "metadata": {
            "tags": [],
            "needs_background": "light"
          }
        },
        {
          "output_type": "display_data",
          "data": {
            "image/png": "[encoded data removed]",
            "text/plain": [
              "<Figure size 432x288 with 1 Axes>"
            ]
          },
          "metadata": {
            "tags": [],
            "needs_background": "light"
          }
        },
        {
          "output_type": "display_data",
          "data": {
            "image/png": "[encoded data removed]",
            "text/plain": [
              "<Figure size 432x288 with 1 Axes>"
            ]
          },
          "metadata": {
            "tags": [],
            "needs_background": "light"
          }
        }
      ]
    },
    {
      "cell_type": "markdown",
      "metadata": {
        "id": "If0TGJeGXcUo",
        "colab_type": "text"
      },
      "source": [
        "**Stationary distribution**<br>\n",
        "This is the amount of time spend in each state when the time tends to infinite\n",
        "\n",
        "```\n",
        "states = [\"Razor\", \"Dron\", \"Soul\"]\n",
        "[0.13761468, 0.62385321, 0.23853211]\n",
        " 0.13886114 0.62337662 0.23776224\n",
        "```\n",
        "\n"
      ]
    },
    {
      "cell_type": "markdown",
      "metadata": {
        "id": "0vNyoI62dhv8",
        "colab_type": "text"
      },
      "source": [
        "**Conclusions about Stationary distribution**<br>\n",
        "The data and the generated DTMC model shows us that there is a higher chance that an individual buys a Dron Notebook over time. What would you recommend? is there something to sell more Dron notebook?  "
      ]
    },
    {
      "cell_type": "markdown",
      "metadata": {
        "id": "9ebc4ThUUJDL",
        "colab_type": "text"
      },
      "source": [
        "#**Simulating a Markov Chain** "
      ]
    },
    {
      "cell_type": "markdown",
      "metadata": {
        "id": "av-OkfJKgxfV",
        "colab_type": "text"
      },
      "source": [
        "In this part, we are going to simulate a Markov Chain "
      ]
    },
    {
      "cell_type": "code",
      "metadata": {
        "id": "THX5bRx9nkHu",
        "colab_type": "code",
        "colab": {
          "base_uri": "https://localhost:8080/",
          "height": 352
        },
        "outputId": "ff6ff14a-3f51-446e-9568-972cd4def2cf"
      },
      "source": [
        "#For explanation purposes we declare our transition matrix and make it a NumPy array, again... \n",
        "P =np.array( [[0.9999,0.0001 , 0], \n",
        "              [0,0.0029 ,0.9971 ], \n",
        "              [0, 0, 1]])\n",
        "\n",
        "\n",
        "stateChangeHist= np.array([[0.0,  0.0,  0.0],\n",
        "                          [0.0, 0.0,  0.0],\n",
        "                          [0.0, 0.0,  0.0]])\n",
        "\n",
        "#Initial state (Razor Notebook)\n",
        "state=np.array([[1.0, 0.0, 0.0]])\n",
        "currentState=0\n",
        "stateHist=state\n",
        "#Making a dataframe\n",
        "dfStateHist=pd.DataFrame(state)\n",
        "distr_hist = [[0,0,0]]\n",
        "seed(4)\n",
        "#Simulate from multinomial distribution\n",
        "def simulate_multinomial(vmultinomial):\n",
        "  #Taking random values from 0.0 to 1.0 which have the same probability to be chosen (Uniform)\n",
        "  r=np.random.uniform(0.0, 1.0)\n",
        "  #Obtaining a cumulative sum \n",
        "  CS=np.cumsum(vmultinomial)\n",
        "  CS=np.insert(CS,0,0)\n",
        "  m=(np.where(CS<r))[0]\n",
        "  nextState=m[len(m)-1]\n",
        "  return nextState\n",
        "for x in range(1000):\n",
        "  currentRow=np.ma.masked_values((P[currentState]), 0.0)\n",
        "  nextState=simulate_multinomial(currentRow)\n",
        "  #Keep track of state changes\n",
        "  stateChangeHist[currentState,nextState]+=1\n",
        "  #Keep track of the state vector itself\n",
        "  state=np.array([[0,0,0]])\n",
        "  state[0,nextState]=1.0\n",
        "  #Keep track of state history\n",
        "  stateHist=np.append(stateHist,state,axis=0)\n",
        "  currentState=nextState\n",
        "  #calculate the actual distribution over the 3 states so far\n",
        "  totals=np.sum(stateHist,axis=0)\n",
        "  gt=np.sum(totals)\n",
        "  distrib=totals/gt\n",
        "  distrib=np.reshape(distrib,(1,3))\n",
        "  distr_hist = np.append(distr_hist, distrib, axis=0)\n",
        "print(distrib)\n",
        "P_hat=stateChangeHist/stateChangeHist.sum(axis=1)[:,None]\n",
        "# Check estimated state transition probabilities based on history so far:\n",
        "print(P_hat)\n",
        "dfDistrHist = pd.DataFrame(distr_hist)\n",
        "# Plot the distribution as the simulation progresses over time\n",
        "dfDistrHist.plot(title=\"Simulation History\")\n",
        "plt.savefig('ejemplo.jpg')\n",
        "\n"
      ],
      "execution_count": null,
      "outputs": [
        {
          "output_type": "stream",
          "text": [
            "[[0.88811189 0.000999   0.11088911]]\n",
            "[[0.99887514 0.00112486 0.        ]\n",
            " [0.         0.         1.        ]\n",
            " [0.         0.         1.        ]]\n"
          ],
          "name": "stdout"
        },
        {
          "output_type": "display_data",
          "data": {
            "image/png": "[encoded data removed]",
            "text/plain": [
              "<Figure size 432x288 with 1 Axes>"
            ]
          },
          "metadata": {
            "tags": [],
            "needs_background": "light"
          }
        }
      ]
    }
  ]
}